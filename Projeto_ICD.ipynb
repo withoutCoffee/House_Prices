{
  "nbformat": 4,
  "nbformat_minor": 0,
  "metadata": {
    "colab": {
      "name": "Projeto_ICD.ipynb",
      "provenance": [],
      "collapsed_sections": []
    },
    "kernelspec": {
      "display_name": "Python 3",
      "language": "python",
      "name": "python3"
    },
    "language_info": {
      "codemirror_mode": {
        "name": "ipython",
        "version": 3
      },
      "file_extension": ".py",
      "mimetype": "text/x-python",
      "name": "python",
      "nbconvert_exporter": "python",
      "pygments_lexer": "ipython3",
      "version": "3.8.3"
    }
  },
  "cells": [
    {
      "cell_type": "code",
      "metadata": {
        "colab": {
          "base_uri": "https://localhost:8080/"
        },
        "id": "gf7ve8Pkmj_y",
        "outputId": "c03c5895-62cb-46c8-f66b-d7083a340e6a"
      },
      "source": [
        "import numpy as np \n",
        "import pandas as pd\n",
        "import seaborn as sns\n",
        "from google.colab import drive\n",
        "import matplotlib.pyplot as plt \n",
        "\n",
        "from sklearn import preprocessing\n",
        "from sklearn.metrics import mean_squared_error\n",
        "from sklearn.metrics import mean_absolute_error\n",
        "from sklearn.linear_model import LinearRegression\n",
        "from sklearn.ensemble import RandomForestRegressor\n",
        "from sklearn.model_selection import train_test_split\n",
        "\n",
        "%matplotlib inline\n",
        "\n",
        "drive.mount('/gdrive')"
      ],
      "execution_count": 520,
      "outputs": [
        {
          "output_type": "stream",
          "text": [
            "Drive already mounted at /gdrive; to attempt to forcibly remount, call drive.mount(\"/gdrive\", force_remount=True).\n"
          ],
          "name": "stdout"
        }
      ]
    },
    {
      "cell_type": "code",
      "metadata": {
        "id": "kfrDKizZncot"
      },
      "source": [
        "## Meu caminho google drive\n",
        "X_train = pd.read_csv('/gdrive/My Drive/Colab Notebooks/train.csv', sep = ',')\n",
        "X_test = pd.read_csv('/gdrive/My Drive/Colab Notebooks/test.csv', sep = ',')\n",
        "\n",
        "## Caminho de localhost\n",
        "#folder = 'dataset'\n",
        "#X_train = pd.read_csv(folder+'/train.csv', sep = ',')\n",
        "#X_test = pd.read_csv(folder+'/test.csv', sep = ',')\n"
      ],
      "execution_count": 521,
      "outputs": []
    },
    {
      "cell_type": "code",
      "metadata": {
        "colab": {
          "base_uri": "https://localhost:8080/",
          "height": 247
        },
        "id": "KwxNkdBuqeiP",
        "outputId": "ca0cc4bf-93bd-4bc1-d2b4-b1376412d415"
      },
      "source": [
        "X_train.head()"
      ],
      "execution_count": 522,
      "outputs": [
        {
          "output_type": "execute_result",
          "data": {
            "text/html": [
              "<div>\n",
              "<style scoped>\n",
              "    .dataframe tbody tr th:only-of-type {\n",
              "        vertical-align: middle;\n",
              "    }\n",
              "\n",
              "    .dataframe tbody tr th {\n",
              "        vertical-align: top;\n",
              "    }\n",
              "\n",
              "    .dataframe thead th {\n",
              "        text-align: right;\n",
              "    }\n",
              "</style>\n",
              "<table border=\"1\" class=\"dataframe\">\n",
              "  <thead>\n",
              "    <tr style=\"text-align: right;\">\n",
              "      <th></th>\n",
              "      <th>Id</th>\n",
              "      <th>MSSubClass</th>\n",
              "      <th>MSZoning</th>\n",
              "      <th>LotFrontage</th>\n",
              "      <th>LotArea</th>\n",
              "      <th>Street</th>\n",
              "      <th>Alley</th>\n",
              "      <th>LotShape</th>\n",
              "      <th>LandContour</th>\n",
              "      <th>Utilities</th>\n",
              "      <th>LotConfig</th>\n",
              "      <th>LandSlope</th>\n",
              "      <th>Neighborhood</th>\n",
              "      <th>Condition1</th>\n",
              "      <th>Condition2</th>\n",
              "      <th>BldgType</th>\n",
              "      <th>HouseStyle</th>\n",
              "      <th>OverallQual</th>\n",
              "      <th>OverallCond</th>\n",
              "      <th>YearBuilt</th>\n",
              "      <th>YearRemodAdd</th>\n",
              "      <th>RoofStyle</th>\n",
              "      <th>RoofMatl</th>\n",
              "      <th>Exterior1st</th>\n",
              "      <th>Exterior2nd</th>\n",
              "      <th>MasVnrType</th>\n",
              "      <th>MasVnrArea</th>\n",
              "      <th>ExterQual</th>\n",
              "      <th>ExterCond</th>\n",
              "      <th>Foundation</th>\n",
              "      <th>BsmtQual</th>\n",
              "      <th>BsmtCond</th>\n",
              "      <th>BsmtExposure</th>\n",
              "      <th>BsmtFinType1</th>\n",
              "      <th>BsmtFinSF1</th>\n",
              "      <th>BsmtFinType2</th>\n",
              "      <th>BsmtFinSF2</th>\n",
              "      <th>BsmtUnfSF</th>\n",
              "      <th>TotalBsmtSF</th>\n",
              "      <th>Heating</th>\n",
              "      <th>...</th>\n",
              "      <th>CentralAir</th>\n",
              "      <th>Electrical</th>\n",
              "      <th>1stFlrSF</th>\n",
              "      <th>2ndFlrSF</th>\n",
              "      <th>LowQualFinSF</th>\n",
              "      <th>GrLivArea</th>\n",
              "      <th>BsmtFullBath</th>\n",
              "      <th>BsmtHalfBath</th>\n",
              "      <th>FullBath</th>\n",
              "      <th>HalfBath</th>\n",
              "      <th>BedroomAbvGr</th>\n",
              "      <th>KitchenAbvGr</th>\n",
              "      <th>KitchenQual</th>\n",
              "      <th>TotRmsAbvGrd</th>\n",
              "      <th>Functional</th>\n",
              "      <th>Fireplaces</th>\n",
              "      <th>FireplaceQu</th>\n",
              "      <th>GarageType</th>\n",
              "      <th>GarageYrBlt</th>\n",
              "      <th>GarageFinish</th>\n",
              "      <th>GarageCars</th>\n",
              "      <th>GarageArea</th>\n",
              "      <th>GarageQual</th>\n",
              "      <th>GarageCond</th>\n",
              "      <th>PavedDrive</th>\n",
              "      <th>WoodDeckSF</th>\n",
              "      <th>OpenPorchSF</th>\n",
              "      <th>EnclosedPorch</th>\n",
              "      <th>3SsnPorch</th>\n",
              "      <th>ScreenPorch</th>\n",
              "      <th>PoolArea</th>\n",
              "      <th>PoolQC</th>\n",
              "      <th>Fence</th>\n",
              "      <th>MiscFeature</th>\n",
              "      <th>MiscVal</th>\n",
              "      <th>MoSold</th>\n",
              "      <th>YrSold</th>\n",
              "      <th>SaleType</th>\n",
              "      <th>SaleCondition</th>\n",
              "      <th>SalePrice</th>\n",
              "    </tr>\n",
              "  </thead>\n",
              "  <tbody>\n",
              "    <tr>\n",
              "      <th>0</th>\n",
              "      <td>1</td>\n",
              "      <td>60</td>\n",
              "      <td>RL</td>\n",
              "      <td>65.0</td>\n",
              "      <td>8450</td>\n",
              "      <td>Pave</td>\n",
              "      <td>NaN</td>\n",
              "      <td>Reg</td>\n",
              "      <td>Lvl</td>\n",
              "      <td>AllPub</td>\n",
              "      <td>Inside</td>\n",
              "      <td>Gtl</td>\n",
              "      <td>CollgCr</td>\n",
              "      <td>Norm</td>\n",
              "      <td>Norm</td>\n",
              "      <td>1Fam</td>\n",
              "      <td>2Story</td>\n",
              "      <td>7</td>\n",
              "      <td>5</td>\n",
              "      <td>2003</td>\n",
              "      <td>2003</td>\n",
              "      <td>Gable</td>\n",
              "      <td>CompShg</td>\n",
              "      <td>VinylSd</td>\n",
              "      <td>VinylSd</td>\n",
              "      <td>BrkFace</td>\n",
              "      <td>196.0</td>\n",
              "      <td>Gd</td>\n",
              "      <td>TA</td>\n",
              "      <td>PConc</td>\n",
              "      <td>Gd</td>\n",
              "      <td>TA</td>\n",
              "      <td>No</td>\n",
              "      <td>GLQ</td>\n",
              "      <td>706</td>\n",
              "      <td>Unf</td>\n",
              "      <td>0</td>\n",
              "      <td>150</td>\n",
              "      <td>856</td>\n",
              "      <td>GasA</td>\n",
              "      <td>...</td>\n",
              "      <td>Y</td>\n",
              "      <td>SBrkr</td>\n",
              "      <td>856</td>\n",
              "      <td>854</td>\n",
              "      <td>0</td>\n",
              "      <td>1710</td>\n",
              "      <td>1</td>\n",
              "      <td>0</td>\n",
              "      <td>2</td>\n",
              "      <td>1</td>\n",
              "      <td>3</td>\n",
              "      <td>1</td>\n",
              "      <td>Gd</td>\n",
              "      <td>8</td>\n",
              "      <td>Typ</td>\n",
              "      <td>0</td>\n",
              "      <td>NaN</td>\n",
              "      <td>Attchd</td>\n",
              "      <td>2003.0</td>\n",
              "      <td>RFn</td>\n",
              "      <td>2</td>\n",
              "      <td>548</td>\n",
              "      <td>TA</td>\n",
              "      <td>TA</td>\n",
              "      <td>Y</td>\n",
              "      <td>0</td>\n",
              "      <td>61</td>\n",
              "      <td>0</td>\n",
              "      <td>0</td>\n",
              "      <td>0</td>\n",
              "      <td>0</td>\n",
              "      <td>NaN</td>\n",
              "      <td>NaN</td>\n",
              "      <td>NaN</td>\n",
              "      <td>0</td>\n",
              "      <td>2</td>\n",
              "      <td>2008</td>\n",
              "      <td>WD</td>\n",
              "      <td>Normal</td>\n",
              "      <td>208500</td>\n",
              "    </tr>\n",
              "    <tr>\n",
              "      <th>1</th>\n",
              "      <td>2</td>\n",
              "      <td>20</td>\n",
              "      <td>RL</td>\n",
              "      <td>80.0</td>\n",
              "      <td>9600</td>\n",
              "      <td>Pave</td>\n",
              "      <td>NaN</td>\n",
              "      <td>Reg</td>\n",
              "      <td>Lvl</td>\n",
              "      <td>AllPub</td>\n",
              "      <td>FR2</td>\n",
              "      <td>Gtl</td>\n",
              "      <td>Veenker</td>\n",
              "      <td>Feedr</td>\n",
              "      <td>Norm</td>\n",
              "      <td>1Fam</td>\n",
              "      <td>1Story</td>\n",
              "      <td>6</td>\n",
              "      <td>8</td>\n",
              "      <td>1976</td>\n",
              "      <td>1976</td>\n",
              "      <td>Gable</td>\n",
              "      <td>CompShg</td>\n",
              "      <td>MetalSd</td>\n",
              "      <td>MetalSd</td>\n",
              "      <td>None</td>\n",
              "      <td>0.0</td>\n",
              "      <td>TA</td>\n",
              "      <td>TA</td>\n",
              "      <td>CBlock</td>\n",
              "      <td>Gd</td>\n",
              "      <td>TA</td>\n",
              "      <td>Gd</td>\n",
              "      <td>ALQ</td>\n",
              "      <td>978</td>\n",
              "      <td>Unf</td>\n",
              "      <td>0</td>\n",
              "      <td>284</td>\n",
              "      <td>1262</td>\n",
              "      <td>GasA</td>\n",
              "      <td>...</td>\n",
              "      <td>Y</td>\n",
              "      <td>SBrkr</td>\n",
              "      <td>1262</td>\n",
              "      <td>0</td>\n",
              "      <td>0</td>\n",
              "      <td>1262</td>\n",
              "      <td>0</td>\n",
              "      <td>1</td>\n",
              "      <td>2</td>\n",
              "      <td>0</td>\n",
              "      <td>3</td>\n",
              "      <td>1</td>\n",
              "      <td>TA</td>\n",
              "      <td>6</td>\n",
              "      <td>Typ</td>\n",
              "      <td>1</td>\n",
              "      <td>TA</td>\n",
              "      <td>Attchd</td>\n",
              "      <td>1976.0</td>\n",
              "      <td>RFn</td>\n",
              "      <td>2</td>\n",
              "      <td>460</td>\n",
              "      <td>TA</td>\n",
              "      <td>TA</td>\n",
              "      <td>Y</td>\n",
              "      <td>298</td>\n",
              "      <td>0</td>\n",
              "      <td>0</td>\n",
              "      <td>0</td>\n",
              "      <td>0</td>\n",
              "      <td>0</td>\n",
              "      <td>NaN</td>\n",
              "      <td>NaN</td>\n",
              "      <td>NaN</td>\n",
              "      <td>0</td>\n",
              "      <td>5</td>\n",
              "      <td>2007</td>\n",
              "      <td>WD</td>\n",
              "      <td>Normal</td>\n",
              "      <td>181500</td>\n",
              "    </tr>\n",
              "    <tr>\n",
              "      <th>2</th>\n",
              "      <td>3</td>\n",
              "      <td>60</td>\n",
              "      <td>RL</td>\n",
              "      <td>68.0</td>\n",
              "      <td>11250</td>\n",
              "      <td>Pave</td>\n",
              "      <td>NaN</td>\n",
              "      <td>IR1</td>\n",
              "      <td>Lvl</td>\n",
              "      <td>AllPub</td>\n",
              "      <td>Inside</td>\n",
              "      <td>Gtl</td>\n",
              "      <td>CollgCr</td>\n",
              "      <td>Norm</td>\n",
              "      <td>Norm</td>\n",
              "      <td>1Fam</td>\n",
              "      <td>2Story</td>\n",
              "      <td>7</td>\n",
              "      <td>5</td>\n",
              "      <td>2001</td>\n",
              "      <td>2002</td>\n",
              "      <td>Gable</td>\n",
              "      <td>CompShg</td>\n",
              "      <td>VinylSd</td>\n",
              "      <td>VinylSd</td>\n",
              "      <td>BrkFace</td>\n",
              "      <td>162.0</td>\n",
              "      <td>Gd</td>\n",
              "      <td>TA</td>\n",
              "      <td>PConc</td>\n",
              "      <td>Gd</td>\n",
              "      <td>TA</td>\n",
              "      <td>Mn</td>\n",
              "      <td>GLQ</td>\n",
              "      <td>486</td>\n",
              "      <td>Unf</td>\n",
              "      <td>0</td>\n",
              "      <td>434</td>\n",
              "      <td>920</td>\n",
              "      <td>GasA</td>\n",
              "      <td>...</td>\n",
              "      <td>Y</td>\n",
              "      <td>SBrkr</td>\n",
              "      <td>920</td>\n",
              "      <td>866</td>\n",
              "      <td>0</td>\n",
              "      <td>1786</td>\n",
              "      <td>1</td>\n",
              "      <td>0</td>\n",
              "      <td>2</td>\n",
              "      <td>1</td>\n",
              "      <td>3</td>\n",
              "      <td>1</td>\n",
              "      <td>Gd</td>\n",
              "      <td>6</td>\n",
              "      <td>Typ</td>\n",
              "      <td>1</td>\n",
              "      <td>TA</td>\n",
              "      <td>Attchd</td>\n",
              "      <td>2001.0</td>\n",
              "      <td>RFn</td>\n",
              "      <td>2</td>\n",
              "      <td>608</td>\n",
              "      <td>TA</td>\n",
              "      <td>TA</td>\n",
              "      <td>Y</td>\n",
              "      <td>0</td>\n",
              "      <td>42</td>\n",
              "      <td>0</td>\n",
              "      <td>0</td>\n",
              "      <td>0</td>\n",
              "      <td>0</td>\n",
              "      <td>NaN</td>\n",
              "      <td>NaN</td>\n",
              "      <td>NaN</td>\n",
              "      <td>0</td>\n",
              "      <td>9</td>\n",
              "      <td>2008</td>\n",
              "      <td>WD</td>\n",
              "      <td>Normal</td>\n",
              "      <td>223500</td>\n",
              "    </tr>\n",
              "    <tr>\n",
              "      <th>3</th>\n",
              "      <td>4</td>\n",
              "      <td>70</td>\n",
              "      <td>RL</td>\n",
              "      <td>60.0</td>\n",
              "      <td>9550</td>\n",
              "      <td>Pave</td>\n",
              "      <td>NaN</td>\n",
              "      <td>IR1</td>\n",
              "      <td>Lvl</td>\n",
              "      <td>AllPub</td>\n",
              "      <td>Corner</td>\n",
              "      <td>Gtl</td>\n",
              "      <td>Crawfor</td>\n",
              "      <td>Norm</td>\n",
              "      <td>Norm</td>\n",
              "      <td>1Fam</td>\n",
              "      <td>2Story</td>\n",
              "      <td>7</td>\n",
              "      <td>5</td>\n",
              "      <td>1915</td>\n",
              "      <td>1970</td>\n",
              "      <td>Gable</td>\n",
              "      <td>CompShg</td>\n",
              "      <td>Wd Sdng</td>\n",
              "      <td>Wd Shng</td>\n",
              "      <td>None</td>\n",
              "      <td>0.0</td>\n",
              "      <td>TA</td>\n",
              "      <td>TA</td>\n",
              "      <td>BrkTil</td>\n",
              "      <td>TA</td>\n",
              "      <td>Gd</td>\n",
              "      <td>No</td>\n",
              "      <td>ALQ</td>\n",
              "      <td>216</td>\n",
              "      <td>Unf</td>\n",
              "      <td>0</td>\n",
              "      <td>540</td>\n",
              "      <td>756</td>\n",
              "      <td>GasA</td>\n",
              "      <td>...</td>\n",
              "      <td>Y</td>\n",
              "      <td>SBrkr</td>\n",
              "      <td>961</td>\n",
              "      <td>756</td>\n",
              "      <td>0</td>\n",
              "      <td>1717</td>\n",
              "      <td>1</td>\n",
              "      <td>0</td>\n",
              "      <td>1</td>\n",
              "      <td>0</td>\n",
              "      <td>3</td>\n",
              "      <td>1</td>\n",
              "      <td>Gd</td>\n",
              "      <td>7</td>\n",
              "      <td>Typ</td>\n",
              "      <td>1</td>\n",
              "      <td>Gd</td>\n",
              "      <td>Detchd</td>\n",
              "      <td>1998.0</td>\n",
              "      <td>Unf</td>\n",
              "      <td>3</td>\n",
              "      <td>642</td>\n",
              "      <td>TA</td>\n",
              "      <td>TA</td>\n",
              "      <td>Y</td>\n",
              "      <td>0</td>\n",
              "      <td>35</td>\n",
              "      <td>272</td>\n",
              "      <td>0</td>\n",
              "      <td>0</td>\n",
              "      <td>0</td>\n",
              "      <td>NaN</td>\n",
              "      <td>NaN</td>\n",
              "      <td>NaN</td>\n",
              "      <td>0</td>\n",
              "      <td>2</td>\n",
              "      <td>2006</td>\n",
              "      <td>WD</td>\n",
              "      <td>Abnorml</td>\n",
              "      <td>140000</td>\n",
              "    </tr>\n",
              "    <tr>\n",
              "      <th>4</th>\n",
              "      <td>5</td>\n",
              "      <td>60</td>\n",
              "      <td>RL</td>\n",
              "      <td>84.0</td>\n",
              "      <td>14260</td>\n",
              "      <td>Pave</td>\n",
              "      <td>NaN</td>\n",
              "      <td>IR1</td>\n",
              "      <td>Lvl</td>\n",
              "      <td>AllPub</td>\n",
              "      <td>FR2</td>\n",
              "      <td>Gtl</td>\n",
              "      <td>NoRidge</td>\n",
              "      <td>Norm</td>\n",
              "      <td>Norm</td>\n",
              "      <td>1Fam</td>\n",
              "      <td>2Story</td>\n",
              "      <td>8</td>\n",
              "      <td>5</td>\n",
              "      <td>2000</td>\n",
              "      <td>2000</td>\n",
              "      <td>Gable</td>\n",
              "      <td>CompShg</td>\n",
              "      <td>VinylSd</td>\n",
              "      <td>VinylSd</td>\n",
              "      <td>BrkFace</td>\n",
              "      <td>350.0</td>\n",
              "      <td>Gd</td>\n",
              "      <td>TA</td>\n",
              "      <td>PConc</td>\n",
              "      <td>Gd</td>\n",
              "      <td>TA</td>\n",
              "      <td>Av</td>\n",
              "      <td>GLQ</td>\n",
              "      <td>655</td>\n",
              "      <td>Unf</td>\n",
              "      <td>0</td>\n",
              "      <td>490</td>\n",
              "      <td>1145</td>\n",
              "      <td>GasA</td>\n",
              "      <td>...</td>\n",
              "      <td>Y</td>\n",
              "      <td>SBrkr</td>\n",
              "      <td>1145</td>\n",
              "      <td>1053</td>\n",
              "      <td>0</td>\n",
              "      <td>2198</td>\n",
              "      <td>1</td>\n",
              "      <td>0</td>\n",
              "      <td>2</td>\n",
              "      <td>1</td>\n",
              "      <td>4</td>\n",
              "      <td>1</td>\n",
              "      <td>Gd</td>\n",
              "      <td>9</td>\n",
              "      <td>Typ</td>\n",
              "      <td>1</td>\n",
              "      <td>TA</td>\n",
              "      <td>Attchd</td>\n",
              "      <td>2000.0</td>\n",
              "      <td>RFn</td>\n",
              "      <td>3</td>\n",
              "      <td>836</td>\n",
              "      <td>TA</td>\n",
              "      <td>TA</td>\n",
              "      <td>Y</td>\n",
              "      <td>192</td>\n",
              "      <td>84</td>\n",
              "      <td>0</td>\n",
              "      <td>0</td>\n",
              "      <td>0</td>\n",
              "      <td>0</td>\n",
              "      <td>NaN</td>\n",
              "      <td>NaN</td>\n",
              "      <td>NaN</td>\n",
              "      <td>0</td>\n",
              "      <td>12</td>\n",
              "      <td>2008</td>\n",
              "      <td>WD</td>\n",
              "      <td>Normal</td>\n",
              "      <td>250000</td>\n",
              "    </tr>\n",
              "  </tbody>\n",
              "</table>\n",
              "<p>5 rows × 81 columns</p>\n",
              "</div>"
            ],
            "text/plain": [
              "   Id  MSSubClass MSZoning  ...  SaleType  SaleCondition SalePrice\n",
              "0   1          60       RL  ...        WD         Normal    208500\n",
              "1   2          20       RL  ...        WD         Normal    181500\n",
              "2   3          60       RL  ...        WD         Normal    223500\n",
              "3   4          70       RL  ...        WD        Abnorml    140000\n",
              "4   5          60       RL  ...        WD         Normal    250000\n",
              "\n",
              "[5 rows x 81 columns]"
            ]
          },
          "metadata": {
            "tags": []
          },
          "execution_count": 522
        }
      ]
    },
    {
      "cell_type": "markdown",
      "metadata": {
        "id": "YcVqlf9EktM2"
      },
      "source": [
        "**Cópias do dataset para manipulações diferentes.**"
      ]
    },
    {
      "cell_type": "code",
      "metadata": {
        "id": "hNd2iu7bqiK8"
      },
      "source": [
        ""
      ],
      "execution_count": 522,
      "outputs": []
    },
    {
      "cell_type": "markdown",
      "metadata": {
        "id": "bBgwmA0WxRuA"
      },
      "source": [
        "# 1) Correlação \n",
        "* Escolhendo os 10 atributos com maior correlação com o SalePrice"
      ]
    },
    {
      "cell_type": "code",
      "metadata": {
        "colab": {
          "base_uri": "https://localhost:8080/"
        },
        "id": "QO_978b6qlzB",
        "outputId": "6eedb399-c296-4d7e-c0b2-e72d0650003e"
      },
      "source": [
        "corr = X_train.corr()\n",
        "corr['SalePrice'].sort_values(ascending = False)[:11]"
      ],
      "execution_count": 523,
      "outputs": [
        {
          "output_type": "execute_result",
          "data": {
            "text/plain": [
              "SalePrice       1.000000\n",
              "OverallQual     0.790982\n",
              "GrLivArea       0.708624\n",
              "GarageCars      0.640409\n",
              "GarageArea      0.623431\n",
              "TotalBsmtSF     0.613581\n",
              "1stFlrSF        0.605852\n",
              "FullBath        0.560664\n",
              "TotRmsAbvGrd    0.533723\n",
              "YearBuilt       0.522897\n",
              "YearRemodAdd    0.507101\n",
              "Name: SalePrice, dtype: float64"
            ]
          },
          "metadata": {
            "tags": []
          },
          "execution_count": 523
        }
      ]
    },
    {
      "cell_type": "code",
      "metadata": {
        "id": "0vpaQllhxBDb"
      },
      "source": [
        "X_train = X_train[['OverallQual', 'GrLivArea', 'GarageCars', 'GarageArea', 'TotalBsmtSF', '1stFlrSF', 'FullBath',\n",
        "                    'TotRmsAbvGrd', 'YearBuilt', 'YearRemodAdd','Neighborhood', 'SalePrice']]\n",
        "X_test = X_test[['OverallQual', 'GrLivArea', 'GarageCars', 'GarageArea', 'TotalBsmtSF', '1stFlrSF', 'FullBath',\n",
        "                    'TotRmsAbvGrd', 'YearBuilt', 'Neighborhood', 'YearRemodAdd']]"
      ],
      "execution_count": 524,
      "outputs": []
    },
    {
      "cell_type": "markdown",
      "metadata": {
        "id": "b5qqJwGmzZWK"
      },
      "source": [
        "# 2) Exploração inicial"
      ]
    },
    {
      "cell_type": "code",
      "metadata": {
        "colab": {
          "base_uri": "https://localhost:8080/",
          "height": 218
        },
        "id": "ZhMpoUoedfM_",
        "outputId": "de86e063-1f90-44db-99cc-dfea85059bc1"
      },
      "source": [
        "X_train.head()"
      ],
      "execution_count": 525,
      "outputs": [
        {
          "output_type": "execute_result",
          "data": {
            "text/html": [
              "<div>\n",
              "<style scoped>\n",
              "    .dataframe tbody tr th:only-of-type {\n",
              "        vertical-align: middle;\n",
              "    }\n",
              "\n",
              "    .dataframe tbody tr th {\n",
              "        vertical-align: top;\n",
              "    }\n",
              "\n",
              "    .dataframe thead th {\n",
              "        text-align: right;\n",
              "    }\n",
              "</style>\n",
              "<table border=\"1\" class=\"dataframe\">\n",
              "  <thead>\n",
              "    <tr style=\"text-align: right;\">\n",
              "      <th></th>\n",
              "      <th>OverallQual</th>\n",
              "      <th>GrLivArea</th>\n",
              "      <th>GarageCars</th>\n",
              "      <th>GarageArea</th>\n",
              "      <th>TotalBsmtSF</th>\n",
              "      <th>1stFlrSF</th>\n",
              "      <th>FullBath</th>\n",
              "      <th>TotRmsAbvGrd</th>\n",
              "      <th>YearBuilt</th>\n",
              "      <th>YearRemodAdd</th>\n",
              "      <th>Neighborhood</th>\n",
              "      <th>SalePrice</th>\n",
              "    </tr>\n",
              "  </thead>\n",
              "  <tbody>\n",
              "    <tr>\n",
              "      <th>0</th>\n",
              "      <td>7</td>\n",
              "      <td>1710</td>\n",
              "      <td>2</td>\n",
              "      <td>548</td>\n",
              "      <td>856</td>\n",
              "      <td>856</td>\n",
              "      <td>2</td>\n",
              "      <td>8</td>\n",
              "      <td>2003</td>\n",
              "      <td>2003</td>\n",
              "      <td>CollgCr</td>\n",
              "      <td>208500</td>\n",
              "    </tr>\n",
              "    <tr>\n",
              "      <th>1</th>\n",
              "      <td>6</td>\n",
              "      <td>1262</td>\n",
              "      <td>2</td>\n",
              "      <td>460</td>\n",
              "      <td>1262</td>\n",
              "      <td>1262</td>\n",
              "      <td>2</td>\n",
              "      <td>6</td>\n",
              "      <td>1976</td>\n",
              "      <td>1976</td>\n",
              "      <td>Veenker</td>\n",
              "      <td>181500</td>\n",
              "    </tr>\n",
              "    <tr>\n",
              "      <th>2</th>\n",
              "      <td>7</td>\n",
              "      <td>1786</td>\n",
              "      <td>2</td>\n",
              "      <td>608</td>\n",
              "      <td>920</td>\n",
              "      <td>920</td>\n",
              "      <td>2</td>\n",
              "      <td>6</td>\n",
              "      <td>2001</td>\n",
              "      <td>2002</td>\n",
              "      <td>CollgCr</td>\n",
              "      <td>223500</td>\n",
              "    </tr>\n",
              "    <tr>\n",
              "      <th>3</th>\n",
              "      <td>7</td>\n",
              "      <td>1717</td>\n",
              "      <td>3</td>\n",
              "      <td>642</td>\n",
              "      <td>756</td>\n",
              "      <td>961</td>\n",
              "      <td>1</td>\n",
              "      <td>7</td>\n",
              "      <td>1915</td>\n",
              "      <td>1970</td>\n",
              "      <td>Crawfor</td>\n",
              "      <td>140000</td>\n",
              "    </tr>\n",
              "    <tr>\n",
              "      <th>4</th>\n",
              "      <td>8</td>\n",
              "      <td>2198</td>\n",
              "      <td>3</td>\n",
              "      <td>836</td>\n",
              "      <td>1145</td>\n",
              "      <td>1145</td>\n",
              "      <td>2</td>\n",
              "      <td>9</td>\n",
              "      <td>2000</td>\n",
              "      <td>2000</td>\n",
              "      <td>NoRidge</td>\n",
              "      <td>250000</td>\n",
              "    </tr>\n",
              "  </tbody>\n",
              "</table>\n",
              "</div>"
            ],
            "text/plain": [
              "   OverallQual  GrLivArea  GarageCars  ...  YearRemodAdd  Neighborhood  SalePrice\n",
              "0            7       1710           2  ...          2003       CollgCr     208500\n",
              "1            6       1262           2  ...          1976       Veenker     181500\n",
              "2            7       1786           2  ...          2002       CollgCr     223500\n",
              "3            7       1717           3  ...          1970       Crawfor     140000\n",
              "4            8       2198           3  ...          2000       NoRidge     250000\n",
              "\n",
              "[5 rows x 12 columns]"
            ]
          },
          "metadata": {
            "tags": []
          },
          "execution_count": 525
        }
      ]
    },
    {
      "cell_type": "code",
      "metadata": {
        "colab": {
          "base_uri": "https://localhost:8080/"
        },
        "id": "m-_7Ag25xviM",
        "outputId": "a8ffe848-bcbe-441c-f821-8372bc005a63"
      },
      "source": [
        "X_train.dtypes"
      ],
      "execution_count": 526,
      "outputs": [
        {
          "output_type": "execute_result",
          "data": {
            "text/plain": [
              "OverallQual      int64\n",
              "GrLivArea        int64\n",
              "GarageCars       int64\n",
              "GarageArea       int64\n",
              "TotalBsmtSF      int64\n",
              "1stFlrSF         int64\n",
              "FullBath         int64\n",
              "TotRmsAbvGrd     int64\n",
              "YearBuilt        int64\n",
              "YearRemodAdd     int64\n",
              "Neighborhood    object\n",
              "SalePrice        int64\n",
              "dtype: object"
            ]
          },
          "metadata": {
            "tags": []
          },
          "execution_count": 526
        }
      ]
    },
    {
      "cell_type": "markdown",
      "metadata": {
        "id": "1wZL38X3etWs"
      },
      "source": [
        "### 2.1) Medidas de centralidade e dispersão"
      ]
    },
    {
      "cell_type": "code",
      "metadata": {
        "colab": {
          "base_uri": "https://localhost:8080/"
        },
        "id": "iYA3-DeCxw9v",
        "outputId": "92274ecc-095d-41b7-9c1f-c13a4a230a63"
      },
      "source": [
        "#X_train.describe()\n",
        "X_train.columns\n",
        "\n",
        "for i in X_train.columns:\n",
        "  if(i != 'Neighborhood'): # Coluna categorica\n",
        "    print(\"Coluna: \", i)\n",
        "    print(\"Média: \", X_train[i].mean())\n",
        "    print(\"Mediana: \", X_train[i].median())\n",
        "    print(\"Desvio padrão: \", X_train[i].std())\n",
        "    print(\"Diferença Média e mediana: \", abs(X_train[i].mean() - X_train[i].median()))\n",
        "    print('\\n\\n')"
      ],
      "execution_count": 527,
      "outputs": [
        {
          "output_type": "stream",
          "text": [
            "Coluna:  OverallQual\n",
            "Média:  6.0993150684931505\n",
            "Mediana:  6.0\n",
            "Desvio padrão:  1.3829965467415923\n",
            "Diferença Média e mediana:  0.09931506849315053\n",
            "\n",
            "\n",
            "\n",
            "Coluna:  GrLivArea\n",
            "Média:  1515.463698630137\n",
            "Mediana:  1464.0\n",
            "Desvio padrão:  525.4803834232027\n",
            "Diferença Média e mediana:  51.46369863013706\n",
            "\n",
            "\n",
            "\n",
            "Coluna:  GarageCars\n",
            "Média:  1.7671232876712328\n",
            "Mediana:  2.0\n",
            "Desvio padrão:  0.7473150101111116\n",
            "Diferença Média e mediana:  0.23287671232876717\n",
            "\n",
            "\n",
            "\n",
            "Coluna:  GarageArea\n",
            "Média:  472.9801369863014\n",
            "Mediana:  480.0\n",
            "Desvio padrão:  213.80484145338076\n",
            "Diferença Média e mediana:  7.019863013698625\n",
            "\n",
            "\n",
            "\n",
            "Coluna:  TotalBsmtSF\n",
            "Média:  1057.4294520547944\n",
            "Mediana:  991.5\n",
            "Desvio padrão:  438.7053244594705\n",
            "Diferença Média e mediana:  65.92945205479441\n",
            "\n",
            "\n",
            "\n",
            "Coluna:  1stFlrSF\n",
            "Média:  1162.626712328767\n",
            "Mediana:  1087.0\n",
            "Desvio padrão:  386.5877380410738\n",
            "Diferença Média e mediana:  75.6267123287671\n",
            "\n",
            "\n",
            "\n",
            "Coluna:  FullBath\n",
            "Média:  1.5650684931506849\n",
            "Mediana:  2.0\n",
            "Desvio padrão:  0.5509158012954318\n",
            "Diferença Média e mediana:  0.43493150684931514\n",
            "\n",
            "\n",
            "\n",
            "Coluna:  TotRmsAbvGrd\n",
            "Média:  6.517808219178082\n",
            "Mediana:  6.0\n",
            "Desvio padrão:  1.625393290584064\n",
            "Diferença Média e mediana:  0.5178082191780824\n",
            "\n",
            "\n",
            "\n",
            "Coluna:  YearBuilt\n",
            "Média:  1971.267808219178\n",
            "Mediana:  1973.0\n",
            "Desvio padrão:  30.202904042525265\n",
            "Diferença Média e mediana:  1.7321917808219496\n",
            "\n",
            "\n",
            "\n",
            "Coluna:  YearRemodAdd\n",
            "Média:  1984.8657534246574\n",
            "Mediana:  1994.0\n",
            "Desvio padrão:  20.645406807709396\n",
            "Diferença Média e mediana:  9.134246575342559\n",
            "\n",
            "\n",
            "\n",
            "Coluna:  SalePrice\n",
            "Média:  180921.19589041095\n",
            "Mediana:  163000.0\n",
            "Desvio padrão:  79442.50288288663\n",
            "Diferença Média e mediana:  17921.19589041095\n",
            "\n",
            "\n",
            "\n"
          ],
          "name": "stdout"
        }
      ]
    },
    {
      "cell_type": "markdown",
      "metadata": {
        "id": "DOeAZNctfQEY"
      },
      "source": [
        "### 2.2) Boxplots"
      ]
    },
    {
      "cell_type": "code",
      "metadata": {
        "id": "HyCU4d-LktM4"
      },
      "source": [
        ""
      ],
      "execution_count": 527,
      "outputs": []
    },
    {
      "cell_type": "code",
      "metadata": {
        "colab": {
          "base_uri": "https://localhost:8080/",
          "height": 350
        },
        "id": "aSMJO-PKffDE",
        "outputId": "df89c51a-58ba-447b-a1fa-08da14ef374d"
      },
      "source": [
        "plt.figure(figsize = (21, 5))\n",
        "\n",
        "plt.subplot(1, 5, 1)\n",
        "plt.boxplot(X_train['OverallQual'])\n",
        "plt.title(\"OverallQual\")\n",
        "\n",
        "plt.subplot(1, 5, 2) # Criando subplot 2\n",
        "plt.boxplot(X_train['GrLivArea'])\n",
        "plt.title(\"GrLivArea\")\n",
        "\n",
        "plt.subplot(1, 5, 3) \n",
        "plt.boxplot(X_train['GarageCars'])\n",
        "plt.title(\"GarageCars\")\n",
        "\n",
        "plt.subplot(1, 5, 4) \n",
        "plt.boxplot(X_train['GarageArea'])\n",
        "plt.title(\"GarageArea\")\n",
        "\n",
        "plt.subplot(1, 5, 5) \n",
        "plt.boxplot(X_train['TotalBsmtSF'])\n",
        "plt.title(\"TotalBsmtSF\")\n",
        "\n",
        "plt.legend()"
      ],
      "execution_count": 528,
      "outputs": [
        {
          "output_type": "stream",
          "text": [
            "No handles with labels found to put in legend.\n"
          ],
          "name": "stderr"
        },
        {
          "output_type": "execute_result",
          "data": {
            "text/plain": [
              "<matplotlib.legend.Legend at 0x7f956f56e278>"
            ]
          },
          "metadata": {
            "tags": []
          },
          "execution_count": 528
        },
        {
          "output_type": "display_data",
          "data": {
            "image/png": "[encoded data removed]",
            "text/plain": [
              "<Figure size 1512x360 with 5 Axes>"
            ]
          },
          "metadata": {
            "tags": [],
            "needs_background": "light"
          }
        }
      ]
    },
    {
      "cell_type": "code",
      "metadata": {
        "colab": {
          "base_uri": "https://localhost:8080/",
          "height": 328
        },
        "id": "FSSvdelmkTx8",
        "outputId": "41ac3842-0ef7-4e29-8875-f6735c4cb292"
      },
      "source": [
        "plt.figure(figsize = (21, 5))\n",
        "\n",
        "plt.subplot(1, 5, 1)\n",
        "plt.boxplot(X_train['1stFlrSF'])\n",
        "plt.title(\"1stFlrSF\")\n",
        "\n",
        "plt.subplot(1, 5, 2) # Criando subplot 2\n",
        "plt.boxplot(X_train['FullBath'])\n",
        "plt.title(\"FullBath\")\n",
        "\n",
        "plt.subplot(1, 5, 3) \n",
        "plt.boxplot(X_train['TotRmsAbvGrd'])\n",
        "plt.title(\"TotRmsAbvGrd\")\n",
        "\n",
        "plt.subplot(1, 5, 4) \n",
        "plt.boxplot(X_train['YearBuilt'])\n",
        "plt.title(\"YearBuilt\")\n",
        "\n",
        "plt.subplot(1, 5, 5) \n",
        "plt.boxplot(X_train['YearRemodAdd'])\n",
        "plt.title(\"YearRemodAdd\")\n"
      ],
      "execution_count": 529,
      "outputs": [
        {
          "output_type": "execute_result",
          "data": {
            "text/plain": [
              "Text(0.5, 1.0, 'YearRemodAdd')"
            ]
          },
          "metadata": {
            "tags": []
          },
          "execution_count": 529
        },
        {
          "output_type": "display_data",
          "data": {
            "image/png": "[encoded data removed]",
            "text/plain": [
              "<Figure size 1512x360 with 5 Axes>"
            ]
          },
          "metadata": {
            "tags": [],
            "needs_background": "light"
          }
        }
      ]
    },
    {
      "cell_type": "code",
      "metadata": {
        "colab": {
          "base_uri": "https://localhost:8080/",
          "height": 446
        },
        "id": "IR2bSDZjgosu",
        "outputId": "26f05911-d630-46c6-a84f-05a92c87e357"
      },
      "source": [
        "plt.figure(figsize = (7, 7))\n",
        "\n",
        "X_train['SalePrice'].plot.box()"
      ],
      "execution_count": 530,
      "outputs": [
        {
          "output_type": "execute_result",
          "data": {
            "text/plain": [
              "<matplotlib.axes._subplots.AxesSubplot at 0x7f956f6af8d0>"
            ]
          },
          "metadata": {
            "tags": []
          },
          "execution_count": 530
        },
        {
          "output_type": "display_data",
          "data": {
            "image/png": "[encoded data removed]",
            "text/plain": [
              "<Figure size 504x504 with 1 Axes>"
            ]
          },
          "metadata": {
            "tags": [],
            "needs_background": "light"
          }
        }
      ]
    },
    {
      "cell_type": "code",
      "metadata": {
        "id": "qJC44Q7ikw-o"
      },
      "source": [
        ""
      ],
      "execution_count": 530,
      "outputs": []
    },
    {
      "cell_type": "markdown",
      "metadata": {
        "id": "z2JWa5xkWlHr"
      },
      "source": [
        "# 3) Visualização de dados"
      ]
    },
    {
      "cell_type": "markdown",
      "metadata": {
        "id": "izLzjlVdZLvD"
      },
      "source": [
        "### 3.1) Dispersão"
      ]
    },
    {
      "cell_type": "code",
      "metadata": {
        "colab": {
          "base_uri": "https://localhost:8080/",
          "height": 325
        },
        "id": "tavfA11VWnAA",
        "outputId": "48b50a24-4cbd-409b-dc04-f159d1cd870e"
      },
      "source": [
        "plt.figure(figsize = (21, 5))\n",
        "\n",
        "plt.subplot(1, 4, 1)\n",
        "plt.scatter(X_train['GrLivArea'], X_train['SalePrice'], marker='o');\n",
        "#plt.xlabel('GrLivArea')\n",
        "#plt.ylabel('SalePrice')\n",
        "plt.title('GrLivArea x SalePrice')\n",
        "\n",
        "plt.subplot(1, 4, 2)\n",
        "plt.scatter(X_train['GarageArea'], X_train['SalePrice'], marker='o');\n",
        "#plt.xlabel('GarageArea')\n",
        "#plt.ylabel('SalePrice')\n",
        "plt.title('GarageArea x SalePrice')\n",
        "\n",
        "plt.subplot(1, 4, 3)\n",
        "plt.scatter(X_train['TotalBsmtSF'], X_train['SalePrice'], marker='o');\n",
        "#plt.xlabel('TotalBsmtSF')\n",
        "#plt.ylabel('SalePrice')\n",
        "plt.title('TotalBsmtSF x SalePrice')\n",
        "\n",
        "plt.subplot(1, 4, 4)\n",
        "plt.scatter(X_train['1stFlrSF'], X_train['SalePrice'], marker='o');\n",
        "#plt.xlabel('1stFlrSF')\n",
        "#plt.ylabel('SalePrice')\n",
        "plt.title('1stFlrSF x SalePrice')\n"
      ],
      "execution_count": 531,
      "outputs": [
        {
          "output_type": "execute_result",
          "data": {
            "text/plain": [
              "Text(0.5, 1.0, '1stFlrSF x SalePrice')"
            ]
          },
          "metadata": {
            "tags": []
          },
          "execution_count": 531
        },
        {
          "output_type": "display_data",
          "data": {
            "image/png": "[encoded data removed]",
            "text/plain": [
              "<Figure size 1512x360 with 4 Axes>"
            ]
          },
          "metadata": {
            "tags": [],
            "needs_background": "light"
          }
        }
      ]
    },
    {
      "cell_type": "markdown",
      "metadata": {
        "id": "7MgBBYOncm54"
      },
      "source": [
        "### 3.2) Histograma"
      ]
    },
    {
      "cell_type": "code",
      "metadata": {
        "colab": {
          "base_uri": "https://localhost:8080/",
          "height": 364
        },
        "id": "fIaaesIbnsyX",
        "outputId": "0c189e50-2490-4ad8-b00f-fa2afba71b64"
      },
      "source": [
        "plt.figure(figsize = (25, 7))\n",
        "\n",
        "sns.histplot(X_train['Neighborhood'])"
      ],
      "execution_count": 532,
      "outputs": [
        {
          "output_type": "execute_result",
          "data": {
            "text/plain": [
              "<matplotlib.axes._subplots.AxesSubplot at 0x7f956f29a4e0>"
            ]
          },
          "metadata": {
            "tags": []
          },
          "execution_count": 532
        },
        {
          "output_type": "display_data",
          "data": {
            "image/png": "[encoded data removed]",
            "text/plain": [
              "<Figure size 1800x504 with 1 Axes>"
            ]
          },
          "metadata": {
            "tags": [],
            "needs_background": "light"
          }
        }
      ]
    },
    {
      "cell_type": "code",
      "metadata": {
        "colab": {
          "base_uri": "https://localhost:8080/",
          "height": 297
        },
        "id": "i8osAMK_ZsYV",
        "outputId": "4c34f2f9-5575-452c-85bb-60ebd15e4785"
      },
      "source": [
        "sns.histplot(X_train['OverallQual'])"
      ],
      "execution_count": 533,
      "outputs": [
        {
          "output_type": "execute_result",
          "data": {
            "text/plain": [
              "<matplotlib.axes._subplots.AxesSubplot at 0x7f956f50ec18>"
            ]
          },
          "metadata": {
            "tags": []
          },
          "execution_count": 533
        },
        {
          "output_type": "display_data",
          "data": {
            "image/png": "[encoded data removed]",
            "text/plain": [
              "<Figure size 432x288 with 1 Axes>"
            ]
          },
          "metadata": {
            "tags": [],
            "needs_background": "light"
          }
        }
      ]
    },
    {
      "cell_type": "code",
      "metadata": {
        "colab": {
          "base_uri": "https://localhost:8080/",
          "height": 297
        },
        "id": "VFbrPv88hw4b",
        "outputId": "f016c502-ddb5-4635-c367-35583380c7f6"
      },
      "source": [
        "sns.histplot(X_train['GarageCars'])"
      ],
      "execution_count": 534,
      "outputs": [
        {
          "output_type": "execute_result",
          "data": {
            "text/plain": [
              "<matplotlib.axes._subplots.AxesSubplot at 0x7f956efc43c8>"
            ]
          },
          "metadata": {
            "tags": []
          },
          "execution_count": 534
        },
        {
          "output_type": "display_data",
          "data": {
            "image/png": "[encoded data removed]",
            "text/plain": [
              "<Figure size 432x288 with 1 Axes>"
            ]
          },
          "metadata": {
            "tags": [],
            "needs_background": "light"
          }
        }
      ]
    },
    {
      "cell_type": "code",
      "metadata": {
        "colab": {
          "base_uri": "https://localhost:8080/",
          "height": 300
        },
        "id": "JvCPYhtXhw7v",
        "outputId": "f56966ad-f894-4264-c4b8-36664b634e01"
      },
      "source": [
        "sns.histplot(X_train['FullBath'])"
      ],
      "execution_count": 535,
      "outputs": [
        {
          "output_type": "execute_result",
          "data": {
            "text/plain": [
              "<matplotlib.axes._subplots.AxesSubplot at 0x7f956ef8f550>"
            ]
          },
          "metadata": {
            "tags": []
          },
          "execution_count": 535
        },
        {
          "output_type": "display_data",
          "data": {
            "image/png": "[encoded data removed]",
            "text/plain": [
              "<Figure size 432x288 with 1 Axes>"
            ]
          },
          "metadata": {
            "tags": [],
            "needs_background": "light"
          }
        }
      ]
    },
    {
      "cell_type": "code",
      "metadata": {
        "colab": {
          "base_uri": "https://localhost:8080/",
          "height": 297
        },
        "id": "2U372Izihw_c",
        "outputId": "b2e0dd21-66d8-442d-c2c3-871eb04c7ba6"
      },
      "source": [
        "sns.histplot(X_train['YearBuilt'])"
      ],
      "execution_count": 536,
      "outputs": [
        {
          "output_type": "execute_result",
          "data": {
            "text/plain": [
              "<matplotlib.axes._subplots.AxesSubplot at 0x7f956ee74ef0>"
            ]
          },
          "metadata": {
            "tags": []
          },
          "execution_count": 536
        },
        {
          "output_type": "display_data",
          "data": {
            "image/png": "[encoded data removed]",
            "text/plain": [
              "<Figure size 432x288 with 1 Axes>"
            ]
          },
          "metadata": {
            "tags": [],
            "needs_background": "light"
          }
        }
      ]
    },
    {
      "cell_type": "code",
      "metadata": {
        "colab": {
          "base_uri": "https://localhost:8080/",
          "height": 297
        },
        "id": "kU2Pp1LyiAqL",
        "outputId": "36a73067-c4c2-4c39-d1b6-26096b21e1a3"
      },
      "source": [
        "sns.histplot(X_train['YearRemodAdd'])"
      ],
      "execution_count": 537,
      "outputs": [
        {
          "output_type": "execute_result",
          "data": {
            "text/plain": [
              "<matplotlib.axes._subplots.AxesSubplot at 0x7f956ee09198>"
            ]
          },
          "metadata": {
            "tags": []
          },
          "execution_count": 537
        },
        {
          "output_type": "display_data",
          "data": {
            "image/png": "[encoded data removed]",
            "text/plain": [
              "<Figure size 432x288 with 1 Axes>"
            ]
          },
          "metadata": {
            "tags": [],
            "needs_background": "light"
          }
        }
      ]
    },
    {
      "cell_type": "markdown",
      "metadata": {
        "id": "Vh0yeE78oajL"
      },
      "source": [
        "# 4) Limpeza e Transformação"
      ]
    },
    {
      "cell_type": "markdown",
      "metadata": {
        "id": "ujYXZ2BektM6"
      },
      "source": [
        "### 4.1) Limpeza dos dados"
      ]
    },
    {
      "cell_type": "markdown",
      "metadata": {
        "id": "qeK5JBtiktM6"
      },
      "source": [
        "**Verificando se há linhas com valores nulos e quais colunas contém mais valores nulos**"
      ]
    },
    {
      "cell_type": "code",
      "metadata": {
        "colab": {
          "base_uri": "https://localhost:8080/"
        },
        "id": "tzkTywNEktM6",
        "outputId": "76ffd713-895f-4bd0-ae25-cf2d17ed58a0"
      },
      "source": [
        "print(f\"size train:{len(X_train)}, size test:{len(X_test)}\")"
      ],
      "execution_count": 538,
      "outputs": [
        {
          "output_type": "stream",
          "text": [
            "size train:1460, size test:1459\n"
          ],
          "name": "stdout"
        }
      ]
    },
    {
      "cell_type": "code",
      "metadata": {
        "colab": {
          "base_uri": "https://localhost:8080/",
          "height": 501
        },
        "id": "XhUfJeJ-ktM6",
        "outputId": "817477bc-1654-49da-97cd-9f2d2153dbea"
      },
      "source": [
        "plt.figure(figsize = (17,8))\n",
        "plt.barh(X_train.columns,X_train.isnull().sum())"
      ],
      "execution_count": 539,
      "outputs": [
        {
          "output_type": "execute_result",
          "data": {
            "text/plain": [
              "<BarContainer object of 12 artists>"
            ]
          },
          "metadata": {
            "tags": []
          },
          "execution_count": 539
        },
        {
          "output_type": "display_data",
          "data": {
            "image/png": "[encoded data removed]",
            "text/plain": [
              "<Figure size 1224x576 with 1 Axes>"
            ]
          },
          "metadata": {
            "tags": [],
            "needs_background": "light"
          }
        }
      ]
    },
    {
      "cell_type": "code",
      "metadata": {
        "colab": {
          "base_uri": "https://localhost:8080/",
          "height": 501
        },
        "id": "QQT3uMUzktM6",
        "outputId": "8972b52f-139d-448a-f842-bb363b6cc727"
      },
      "source": [
        "plt.figure(figsize = (17, 8))\n",
        "plt.barh(X_test.columns, X_test.isnull().sum())"
      ],
      "execution_count": 540,
      "outputs": [
        {
          "output_type": "execute_result",
          "data": {
            "text/plain": [
              "<BarContainer object of 11 artists>"
            ]
          },
          "metadata": {
            "tags": []
          },
          "execution_count": 540
        },
        {
          "output_type": "display_data",
          "data": {
            "image/png": "[encoded data removed]",
            "text/plain": [
              "<Figure size 1224x576 with 1 Axes>"
            ]
          },
          "metadata": {
            "tags": [],
            "needs_background": "light"
          }
        }
      ]
    },
    {
      "cell_type": "markdown",
      "metadata": {
        "id": "NJ4tncP9ktM7"
      },
      "source": [
        "**Colunas com mais valores faltantes no TRAIN**\n",
        "* Como podemos ver abaixo, não  há colunas com valores faltantes no X_train"
      ]
    },
    {
      "cell_type": "code",
      "metadata": {
        "colab": {
          "base_uri": "https://localhost:8080/"
        },
        "id": "CrK_NHrhktM7",
        "outputId": "1c1fa614-4ad3-46cc-b9bc-4b24296d74e9"
      },
      "source": [
        "X_train.isnull().sum().sort_values(ascending=False)"
      ],
      "execution_count": 541,
      "outputs": [
        {
          "output_type": "execute_result",
          "data": {
            "text/plain": [
              "SalePrice       0\n",
              "Neighborhood    0\n",
              "YearRemodAdd    0\n",
              "YearBuilt       0\n",
              "TotRmsAbvGrd    0\n",
              "FullBath        0\n",
              "1stFlrSF        0\n",
              "TotalBsmtSF     0\n",
              "GarageArea      0\n",
              "GarageCars      0\n",
              "GrLivArea       0\n",
              "OverallQual     0\n",
              "dtype: int64"
            ]
          },
          "metadata": {
            "tags": []
          },
          "execution_count": 541
        }
      ]
    },
    {
      "cell_type": "markdown",
      "metadata": {
        "id": "bheF7GXMktM7"
      },
      "source": [
        "**Colunas com mais valores faltantes no TEST**\n",
        "\n",
        "Remover linhas com atributos nulos.\n"
      ]
    },
    {
      "cell_type": "code",
      "metadata": {
        "collapsed": true,
        "colab": {
          "base_uri": "https://localhost:8080/"
        },
        "id": "0Rph9HuGktM7",
        "outputId": "64c47a50-9de6-4328-d679-445202f35703"
      },
      "source": [
        "X_test.isnull().sum().sort_values(ascending=False)"
      ],
      "execution_count": 542,
      "outputs": [
        {
          "output_type": "execute_result",
          "data": {
            "text/plain": [
              "TotalBsmtSF     1\n",
              "GarageArea      1\n",
              "GarageCars      1\n",
              "YearRemodAdd    0\n",
              "Neighborhood    0\n",
              "YearBuilt       0\n",
              "TotRmsAbvGrd    0\n",
              "FullBath        0\n",
              "1stFlrSF        0\n",
              "GrLivArea       0\n",
              "OverallQual     0\n",
              "dtype: int64"
            ]
          },
          "metadata": {
            "tags": []
          },
          "execution_count": 542
        }
      ]
    },
    {
      "cell_type": "markdown",
      "metadata": {
        "id": "QlTlF5RHktM7"
      },
      "source": [
        "Removendo linhas com dados faltantes"
      ]
    },
    {
      "cell_type": "code",
      "metadata": {
        "id": "zx92VWgbktM7"
      },
      "source": [
        "att = ['TotalBsmtSF','GarageArea','GarageCars']"
      ],
      "execution_count": 543,
      "outputs": []
    },
    {
      "cell_type": "code",
      "metadata": {
        "id": "Ue_HTJD4ktM7"
      },
      "source": [
        "for i in att:\n",
        "    X_test.drop(X_test[X_test[i].isnull()].index,inplace = True)"
      ],
      "execution_count": 544,
      "outputs": []
    },
    {
      "cell_type": "code",
      "metadata": {
        "id": "7uHf10n5mdPr"
      },
      "source": [
        ""
      ],
      "execution_count": 544,
      "outputs": []
    },
    {
      "cell_type": "code",
      "metadata": {
        "colab": {
          "base_uri": "https://localhost:8080/"
        },
        "id": "JtFVz1kAktM9",
        "outputId": "baaa23f2-972f-4765-c287-f0d0651234da"
      },
      "source": [
        "print(f\"size train:{len(X_train)}, size test:{len(X_test)}\")"
      ],
      "execution_count": 545,
      "outputs": [
        {
          "output_type": "stream",
          "text": [
            "size train:1460, size test:1457\n"
          ],
          "name": "stdout"
        }
      ]
    },
    {
      "cell_type": "code",
      "metadata": {
        "id": "bPdtIXpIktM9"
      },
      "source": [
        ""
      ],
      "execution_count": 545,
      "outputs": []
    },
    {
      "cell_type": "markdown",
      "metadata": {
        "id": "TYz8iDaUktM9"
      },
      "source": [
        "### 4.2) Transformação dos dados"
      ]
    },
    {
      "cell_type": "markdown",
      "metadata": {
        "id": "CP9KvLVTktM9"
      },
      "source": [
        "**Tranformando a variável categórica Neighborhood para valores entre 0 e n_classes-1**"
      ]
    },
    {
      "cell_type": "code",
      "metadata": {
        "id": "C2xtihFLktM9"
      },
      "source": [
        "le = preprocessing.LabelEncoder()"
      ],
      "execution_count": 546,
      "outputs": []
    },
    {
      "cell_type": "code",
      "metadata": {
        "id": "BFNDN4tQqV5_"
      },
      "source": [
        "X_train.Neighborhood = le.fit_transform(X_train.Neighborhood)\n",
        "X_test.Neighborhood = le.fit_transform(X_test.Neighborhood)"
      ],
      "execution_count": 547,
      "outputs": []
    },
    {
      "cell_type": "code",
      "metadata": {
        "colab": {
          "base_uri": "https://localhost:8080/",
          "height": 427
        },
        "id": "gAx-rA6pqmQx",
        "outputId": "70399bc5-f0f8-45ce-e148-322d5578fca3"
      },
      "source": [
        "X_train"
      ],
      "execution_count": 548,
      "outputs": [
        {
          "output_type": "execute_result",
          "data": {
            "text/html": [
              "<div>\n",
              "<style scoped>\n",
              "    .dataframe tbody tr th:only-of-type {\n",
              "        vertical-align: middle;\n",
              "    }\n",
              "\n",
              "    .dataframe tbody tr th {\n",
              "        vertical-align: top;\n",
              "    }\n",
              "\n",
              "    .dataframe thead th {\n",
              "        text-align: right;\n",
              "    }\n",
              "</style>\n",
              "<table border=\"1\" class=\"dataframe\">\n",
              "  <thead>\n",
              "    <tr style=\"text-align: right;\">\n",
              "      <th></th>\n",
              "      <th>OverallQual</th>\n",
              "      <th>GrLivArea</th>\n",
              "      <th>GarageCars</th>\n",
              "      <th>GarageArea</th>\n",
              "      <th>TotalBsmtSF</th>\n",
              "      <th>1stFlrSF</th>\n",
              "      <th>FullBath</th>\n",
              "      <th>TotRmsAbvGrd</th>\n",
              "      <th>YearBuilt</th>\n",
              "      <th>YearRemodAdd</th>\n",
              "      <th>Neighborhood</th>\n",
              "      <th>SalePrice</th>\n",
              "    </tr>\n",
              "  </thead>\n",
              "  <tbody>\n",
              "    <tr>\n",
              "      <th>0</th>\n",
              "      <td>7</td>\n",
              "      <td>1710</td>\n",
              "      <td>2</td>\n",
              "      <td>548</td>\n",
              "      <td>856</td>\n",
              "      <td>856</td>\n",
              "      <td>2</td>\n",
              "      <td>8</td>\n",
              "      <td>2003</td>\n",
              "      <td>2003</td>\n",
              "      <td>5</td>\n",
              "      <td>208500</td>\n",
              "    </tr>\n",
              "    <tr>\n",
              "      <th>1</th>\n",
              "      <td>6</td>\n",
              "      <td>1262</td>\n",
              "      <td>2</td>\n",
              "      <td>460</td>\n",
              "      <td>1262</td>\n",
              "      <td>1262</td>\n",
              "      <td>2</td>\n",
              "      <td>6</td>\n",
              "      <td>1976</td>\n",
              "      <td>1976</td>\n",
              "      <td>24</td>\n",
              "      <td>181500</td>\n",
              "    </tr>\n",
              "    <tr>\n",
              "      <th>2</th>\n",
              "      <td>7</td>\n",
              "      <td>1786</td>\n",
              "      <td>2</td>\n",
              "      <td>608</td>\n",
              "      <td>920</td>\n",
              "      <td>920</td>\n",
              "      <td>2</td>\n",
              "      <td>6</td>\n",
              "      <td>2001</td>\n",
              "      <td>2002</td>\n",
              "      <td>5</td>\n",
              "      <td>223500</td>\n",
              "    </tr>\n",
              "    <tr>\n",
              "      <th>3</th>\n",
              "      <td>7</td>\n",
              "      <td>1717</td>\n",
              "      <td>3</td>\n",
              "      <td>642</td>\n",
              "      <td>756</td>\n",
              "      <td>961</td>\n",
              "      <td>1</td>\n",
              "      <td>7</td>\n",
              "      <td>1915</td>\n",
              "      <td>1970</td>\n",
              "      <td>6</td>\n",
              "      <td>140000</td>\n",
              "    </tr>\n",
              "    <tr>\n",
              "      <th>4</th>\n",
              "      <td>8</td>\n",
              "      <td>2198</td>\n",
              "      <td>3</td>\n",
              "      <td>836</td>\n",
              "      <td>1145</td>\n",
              "      <td>1145</td>\n",
              "      <td>2</td>\n",
              "      <td>9</td>\n",
              "      <td>2000</td>\n",
              "      <td>2000</td>\n",
              "      <td>15</td>\n",
              "      <td>250000</td>\n",
              "    </tr>\n",
              "    <tr>\n",
              "      <th>...</th>\n",
              "      <td>...</td>\n",
              "      <td>...</td>\n",
              "      <td>...</td>\n",
              "      <td>...</td>\n",
              "      <td>...</td>\n",
              "      <td>...</td>\n",
              "      <td>...</td>\n",
              "      <td>...</td>\n",
              "      <td>...</td>\n",
              "      <td>...</td>\n",
              "      <td>...</td>\n",
              "      <td>...</td>\n",
              "    </tr>\n",
              "    <tr>\n",
              "      <th>1455</th>\n",
              "      <td>6</td>\n",
              "      <td>1647</td>\n",
              "      <td>2</td>\n",
              "      <td>460</td>\n",
              "      <td>953</td>\n",
              "      <td>953</td>\n",
              "      <td>2</td>\n",
              "      <td>7</td>\n",
              "      <td>1999</td>\n",
              "      <td>2000</td>\n",
              "      <td>8</td>\n",
              "      <td>175000</td>\n",
              "    </tr>\n",
              "    <tr>\n",
              "      <th>1456</th>\n",
              "      <td>6</td>\n",
              "      <td>2073</td>\n",
              "      <td>2</td>\n",
              "      <td>500</td>\n",
              "      <td>1542</td>\n",
              "      <td>2073</td>\n",
              "      <td>2</td>\n",
              "      <td>7</td>\n",
              "      <td>1978</td>\n",
              "      <td>1988</td>\n",
              "      <td>14</td>\n",
              "      <td>210000</td>\n",
              "    </tr>\n",
              "    <tr>\n",
              "      <th>1457</th>\n",
              "      <td>7</td>\n",
              "      <td>2340</td>\n",
              "      <td>1</td>\n",
              "      <td>252</td>\n",
              "      <td>1152</td>\n",
              "      <td>1188</td>\n",
              "      <td>2</td>\n",
              "      <td>9</td>\n",
              "      <td>1941</td>\n",
              "      <td>2006</td>\n",
              "      <td>6</td>\n",
              "      <td>266500</td>\n",
              "    </tr>\n",
              "    <tr>\n",
              "      <th>1458</th>\n",
              "      <td>5</td>\n",
              "      <td>1078</td>\n",
              "      <td>1</td>\n",
              "      <td>240</td>\n",
              "      <td>1078</td>\n",
              "      <td>1078</td>\n",
              "      <td>1</td>\n",
              "      <td>5</td>\n",
              "      <td>1950</td>\n",
              "      <td>1996</td>\n",
              "      <td>12</td>\n",
              "      <td>142125</td>\n",
              "    </tr>\n",
              "    <tr>\n",
              "      <th>1459</th>\n",
              "      <td>5</td>\n",
              "      <td>1256</td>\n",
              "      <td>1</td>\n",
              "      <td>276</td>\n",
              "      <td>1256</td>\n",
              "      <td>1256</td>\n",
              "      <td>1</td>\n",
              "      <td>6</td>\n",
              "      <td>1965</td>\n",
              "      <td>1965</td>\n",
              "      <td>7</td>\n",
              "      <td>147500</td>\n",
              "    </tr>\n",
              "  </tbody>\n",
              "</table>\n",
              "<p>1460 rows × 12 columns</p>\n",
              "</div>"
            ],
            "text/plain": [
              "      OverallQual  GrLivArea  GarageCars  ...  YearRemodAdd  Neighborhood  SalePrice\n",
              "0               7       1710           2  ...          2003             5     208500\n",
              "1               6       1262           2  ...          1976            24     181500\n",
              "2               7       1786           2  ...          2002             5     223500\n",
              "3               7       1717           3  ...          1970             6     140000\n",
              "4               8       2198           3  ...          2000            15     250000\n",
              "...           ...        ...         ...  ...           ...           ...        ...\n",
              "1455            6       1647           2  ...          2000             8     175000\n",
              "1456            6       2073           2  ...          1988            14     210000\n",
              "1457            7       2340           1  ...          2006             6     266500\n",
              "1458            5       1078           1  ...          1996            12     142125\n",
              "1459            5       1256           1  ...          1965             7     147500\n",
              "\n",
              "[1460 rows x 12 columns]"
            ]
          },
          "metadata": {
            "tags": []
          },
          "execution_count": 548
        }
      ]
    },
    {
      "cell_type": "markdown",
      "metadata": {
        "id": "vGRZSAqDktM-"
      },
      "source": [
        "## 5) Agrupamentos\n",
        "\n",
        "Testes de agrupamentos utilizando K-means com variações de K.\n"
      ]
    },
    {
      "cell_type": "code",
      "metadata": {
        "id": "gJ6Iq0tXktM-"
      },
      "source": [
        "from sklearn.cluster import KMeans\n",
        "from sklearn import decomposition"
      ],
      "execution_count": 549,
      "outputs": []
    },
    {
      "cell_type": "code",
      "metadata": {
        "id": "l7edKbuXktM-"
      },
      "source": [
        "att = ['OverallQual', 'GrLivArea', 'GarageCars', 'GarageArea', 'TotalBsmtSF', '1stFlrSF', 'FullBath',\n",
        "                    'TotRmsAbvGrd', 'YearBuilt', 'YearRemodAdd']\n",
        "df_group = X_train[att]"
      ],
      "execution_count": 550,
      "outputs": []
    },
    {
      "cell_type": "code",
      "metadata": {
        "colab": {
          "base_uri": "https://localhost:8080/",
          "height": 407
        },
        "id": "Y2azrOzNuANm",
        "outputId": "f0885adf-5287-4a47-b1b9-89901096131f"
      },
      "source": [
        "df_group"
      ],
      "execution_count": 551,
      "outputs": [
        {
          "output_type": "execute_result",
          "data": {
            "text/html": [
              "<div>\n",
              "<style scoped>\n",
              "    .dataframe tbody tr th:only-of-type {\n",
              "        vertical-align: middle;\n",
              "    }\n",
              "\n",
              "    .dataframe tbody tr th {\n",
              "        vertical-align: top;\n",
              "    }\n",
              "\n",
              "    .dataframe thead th {\n",
              "        text-align: right;\n",
              "    }\n",
              "</style>\n",
              "<table border=\"1\" class=\"dataframe\">\n",
              "  <thead>\n",
              "    <tr style=\"text-align: right;\">\n",
              "      <th></th>\n",
              "      <th>OverallQual</th>\n",
              "      <th>GrLivArea</th>\n",
              "      <th>GarageCars</th>\n",
              "      <th>GarageArea</th>\n",
              "      <th>TotalBsmtSF</th>\n",
              "      <th>1stFlrSF</th>\n",
              "      <th>FullBath</th>\n",
              "      <th>TotRmsAbvGrd</th>\n",
              "      <th>YearBuilt</th>\n",
              "      <th>YearRemodAdd</th>\n",
              "    </tr>\n",
              "  </thead>\n",
              "  <tbody>\n",
              "    <tr>\n",
              "      <th>0</th>\n",
              "      <td>7</td>\n",
              "      <td>1710</td>\n",
              "      <td>2</td>\n",
              "      <td>548</td>\n",
              "      <td>856</td>\n",
              "      <td>856</td>\n",
              "      <td>2</td>\n",
              "      <td>8</td>\n",
              "      <td>2003</td>\n",
              "      <td>2003</td>\n",
              "    </tr>\n",
              "    <tr>\n",
              "      <th>1</th>\n",
              "      <td>6</td>\n",
              "      <td>1262</td>\n",
              "      <td>2</td>\n",
              "      <td>460</td>\n",
              "      <td>1262</td>\n",
              "      <td>1262</td>\n",
              "      <td>2</td>\n",
              "      <td>6</td>\n",
              "      <td>1976</td>\n",
              "      <td>1976</td>\n",
              "    </tr>\n",
              "    <tr>\n",
              "      <th>2</th>\n",
              "      <td>7</td>\n",
              "      <td>1786</td>\n",
              "      <td>2</td>\n",
              "      <td>608</td>\n",
              "      <td>920</td>\n",
              "      <td>920</td>\n",
              "      <td>2</td>\n",
              "      <td>6</td>\n",
              "      <td>2001</td>\n",
              "      <td>2002</td>\n",
              "    </tr>\n",
              "    <tr>\n",
              "      <th>3</th>\n",
              "      <td>7</td>\n",
              "      <td>1717</td>\n",
              "      <td>3</td>\n",
              "      <td>642</td>\n",
              "      <td>756</td>\n",
              "      <td>961</td>\n",
              "      <td>1</td>\n",
              "      <td>7</td>\n",
              "      <td>1915</td>\n",
              "      <td>1970</td>\n",
              "    </tr>\n",
              "    <tr>\n",
              "      <th>4</th>\n",
              "      <td>8</td>\n",
              "      <td>2198</td>\n",
              "      <td>3</td>\n",
              "      <td>836</td>\n",
              "      <td>1145</td>\n",
              "      <td>1145</td>\n",
              "      <td>2</td>\n",
              "      <td>9</td>\n",
              "      <td>2000</td>\n",
              "      <td>2000</td>\n",
              "    </tr>\n",
              "    <tr>\n",
              "      <th>...</th>\n",
              "      <td>...</td>\n",
              "      <td>...</td>\n",
              "      <td>...</td>\n",
              "      <td>...</td>\n",
              "      <td>...</td>\n",
              "      <td>...</td>\n",
              "      <td>...</td>\n",
              "      <td>...</td>\n",
              "      <td>...</td>\n",
              "      <td>...</td>\n",
              "    </tr>\n",
              "    <tr>\n",
              "      <th>1455</th>\n",
              "      <td>6</td>\n",
              "      <td>1647</td>\n",
              "      <td>2</td>\n",
              "      <td>460</td>\n",
              "      <td>953</td>\n",
              "      <td>953</td>\n",
              "      <td>2</td>\n",
              "      <td>7</td>\n",
              "      <td>1999</td>\n",
              "      <td>2000</td>\n",
              "    </tr>\n",
              "    <tr>\n",
              "      <th>1456</th>\n",
              "      <td>6</td>\n",
              "      <td>2073</td>\n",
              "      <td>2</td>\n",
              "      <td>500</td>\n",
              "      <td>1542</td>\n",
              "      <td>2073</td>\n",
              "      <td>2</td>\n",
              "      <td>7</td>\n",
              "      <td>1978</td>\n",
              "      <td>1988</td>\n",
              "    </tr>\n",
              "    <tr>\n",
              "      <th>1457</th>\n",
              "      <td>7</td>\n",
              "      <td>2340</td>\n",
              "      <td>1</td>\n",
              "      <td>252</td>\n",
              "      <td>1152</td>\n",
              "      <td>1188</td>\n",
              "      <td>2</td>\n",
              "      <td>9</td>\n",
              "      <td>1941</td>\n",
              "      <td>2006</td>\n",
              "    </tr>\n",
              "    <tr>\n",
              "      <th>1458</th>\n",
              "      <td>5</td>\n",
              "      <td>1078</td>\n",
              "      <td>1</td>\n",
              "      <td>240</td>\n",
              "      <td>1078</td>\n",
              "      <td>1078</td>\n",
              "      <td>1</td>\n",
              "      <td>5</td>\n",
              "      <td>1950</td>\n",
              "      <td>1996</td>\n",
              "    </tr>\n",
              "    <tr>\n",
              "      <th>1459</th>\n",
              "      <td>5</td>\n",
              "      <td>1256</td>\n",
              "      <td>1</td>\n",
              "      <td>276</td>\n",
              "      <td>1256</td>\n",
              "      <td>1256</td>\n",
              "      <td>1</td>\n",
              "      <td>6</td>\n",
              "      <td>1965</td>\n",
              "      <td>1965</td>\n",
              "    </tr>\n",
              "  </tbody>\n",
              "</table>\n",
              "<p>1460 rows × 10 columns</p>\n",
              "</div>"
            ],
            "text/plain": [
              "      OverallQual  GrLivArea  GarageCars  ...  TotRmsAbvGrd  YearBuilt  YearRemodAdd\n",
              "0               7       1710           2  ...             8       2003          2003\n",
              "1               6       1262           2  ...             6       1976          1976\n",
              "2               7       1786           2  ...             6       2001          2002\n",
              "3               7       1717           3  ...             7       1915          1970\n",
              "4               8       2198           3  ...             9       2000          2000\n",
              "...           ...        ...         ...  ...           ...        ...           ...\n",
              "1455            6       1647           2  ...             7       1999          2000\n",
              "1456            6       2073           2  ...             7       1978          1988\n",
              "1457            7       2340           1  ...             9       1941          2006\n",
              "1458            5       1078           1  ...             5       1950          1996\n",
              "1459            5       1256           1  ...             6       1965          1965\n",
              "\n",
              "[1460 rows x 10 columns]"
            ]
          },
          "metadata": {
            "tags": []
          },
          "execution_count": 551
        }
      ]
    },
    {
      "cell_type": "code",
      "metadata": {
        "id": "oqfG3pW6ktM-"
      },
      "source": [
        "kmeans = KMeans(n_clusters = 2, random_state=10)"
      ],
      "execution_count": 552,
      "outputs": []
    },
    {
      "cell_type": "code",
      "metadata": {
        "colab": {
          "base_uri": "https://localhost:8080/"
        },
        "id": "OosoJ2KEktM-",
        "outputId": "69d1a1d1-21aa-47e6-c6ff-557fc036b60d"
      },
      "source": [
        "kmeans.fit(df_group)"
      ],
      "execution_count": 553,
      "outputs": [
        {
          "output_type": "execute_result",
          "data": {
            "text/plain": [
              "KMeans(algorithm='auto', copy_x=True, init='k-means++', max_iter=300,\n",
              "       n_clusters=2, n_init=10, n_jobs=None, precompute_distances='auto',\n",
              "       random_state=10, tol=0.0001, verbose=0)"
            ]
          },
          "metadata": {
            "tags": []
          },
          "execution_count": 553
        }
      ]
    },
    {
      "cell_type": "code",
      "metadata": {
        "colab": {
          "base_uri": "https://localhost:8080/"
        },
        "id": "ap9hNa9nktM-",
        "outputId": "a9481fd6-fed2-4ba4-ce69-4e60c87f5ecb"
      },
      "source": [
        "kmeans.labels_ # Saindo diferente"
      ],
      "execution_count": 554,
      "outputs": [
        {
          "output_type": "execute_result",
          "data": {
            "text/plain": [
              "array([0, 0, 0, ..., 1, 0, 0], dtype=int32)"
            ]
          },
          "metadata": {
            "tags": []
          },
          "execution_count": 554
        }
      ]
    },
    {
      "cell_type": "markdown",
      "metadata": {
        "id": "RtNx0wDTktM-"
      },
      "source": [
        "#### #Aplicando decomposição PCA para visialização dos dados no gráfico 2d"
      ]
    },
    {
      "cell_type": "code",
      "metadata": {
        "colab": {
          "base_uri": "https://localhost:8080/"
        },
        "id": "eVus9-KDktM-",
        "outputId": "74237629-681d-4b58-c303-a3db14634093"
      },
      "source": [
        "pca = decomposition.PCA(n_components=1)\n",
        "pca.fit(df_group)"
      ],
      "execution_count": 555,
      "outputs": [
        {
          "output_type": "execute_result",
          "data": {
            "text/plain": [
              "PCA(copy=True, iterated_power='auto', n_components=1, random_state=None,\n",
              "    svd_solver='auto', tol=0.0, whiten=False)"
            ]
          },
          "metadata": {
            "tags": []
          },
          "execution_count": 555
        }
      ]
    },
    {
      "cell_type": "code",
      "metadata": {
        "id": "8oDXPB7iktM-"
      },
      "source": [
        "X = pca.transform(df_group)"
      ],
      "execution_count": 556,
      "outputs": []
    },
    {
      "cell_type": "code",
      "metadata": {
        "id": "GY95hSZ1ktM-"
      },
      "source": [
        "X = pd.DataFrame(X)"
      ],
      "execution_count": 557,
      "outputs": []
    },
    {
      "cell_type": "code",
      "metadata": {
        "id": "4CrT7t3FktM-"
      },
      "source": [
        "X['Saleprice'] = X_train['SalePrice']"
      ],
      "execution_count": 558,
      "outputs": []
    },
    {
      "cell_type": "code",
      "metadata": {
        "id": "cv3Ci16PktM-"
      },
      "source": [
        "X.columns = ['A','SalePrice']"
      ],
      "execution_count": 559,
      "outputs": []
    },
    {
      "cell_type": "code",
      "metadata": {
        "scrolled": true,
        "colab": {
          "base_uri": "https://localhost:8080/",
          "height": 297
        },
        "id": "_3X6IRWCktM-",
        "outputId": "66874e13-df88-4c55-83a2-639e499baa8e"
      },
      "source": [
        "sns.scatterplot(data = X, x='A',y='SalePrice',hue=kmeans.labels_)"
      ],
      "execution_count": 560,
      "outputs": [
        {
          "output_type": "execute_result",
          "data": {
            "text/plain": [
              "<matplotlib.axes._subplots.AxesSubplot at 0x7f956ee04518>"
            ]
          },
          "metadata": {
            "tags": []
          },
          "execution_count": 560
        },
        {
          "output_type": "display_data",
          "data": {
            "image/png": "[encoded data removed]",
            "text/plain": [
              "<Figure size 432x288 with 1 Axes>"
            ]
          },
          "metadata": {
            "tags": [],
            "needs_background": "light"
          }
        }
      ]
    },
    {
      "cell_type": "code",
      "metadata": {
        "colab": {
          "base_uri": "https://localhost:8080/"
        },
        "id": "xZ1EwSrkktM-",
        "outputId": "8c3792c5-983b-4aa9-f2de-601bb33b5efc"
      },
      "source": [
        "df_group['cluster'] = kmeans.labels_"
      ],
      "execution_count": 561,
      "outputs": [
        {
          "output_type": "stream",
          "text": [
            "/usr/local/lib/python3.6/dist-packages/ipykernel_launcher.py:1: SettingWithCopyWarning: \n",
            "A value is trying to be set on a copy of a slice from a DataFrame.\n",
            "Try using .loc[row_indexer,col_indexer] = value instead\n",
            "\n",
            "See the caveats in the documentation: https://pandas.pydata.org/pandas-docs/stable/user_guide/indexing.html#returning-a-view-versus-a-copy\n",
            "  \"\"\"Entry point for launching an IPython kernel.\n"
          ],
          "name": "stderr"
        }
      ]
    },
    {
      "cell_type": "code",
      "metadata": {
        "colab": {
          "base_uri": "https://localhost:8080/",
          "height": 599
        },
        "id": "lzxvCMB1ktM-",
        "outputId": "4645cf40-5663-4ebf-9fa9-0868da13a806"
      },
      "source": [
        "df_group.groupby('cluster').mean().plot.bar(figsize = (20,10))\n"
      ],
      "execution_count": 562,
      "outputs": [
        {
          "output_type": "execute_result",
          "data": {
            "text/plain": [
              "<matplotlib.axes._subplots.AxesSubplot at 0x7f956ec70c50>"
            ]
          },
          "metadata": {
            "tags": []
          },
          "execution_count": 562
        },
        {
          "output_type": "display_data",
          "data": {
            "image/png": "[encoded data removed]",
            "text/plain": [
              "<Figure size 1440x720 with 1 Axes>"
            ]
          },
          "metadata": {
            "tags": [],
            "needs_background": "light"
          }
        }
      ]
    },
    {
      "cell_type": "code",
      "metadata": {
        "colab": {
          "base_uri": "https://localhost:8080/",
          "height": 599
        },
        "id": "yhX50WF4ktM-",
        "outputId": "1438a2b4-0f23-4650-8b2a-93c269bf4548"
      },
      "source": [
        "df_group.groupby('cluster').median().plot.bar(figsize = (20,10))\n"
      ],
      "execution_count": 563,
      "outputs": [
        {
          "output_type": "execute_result",
          "data": {
            "text/plain": [
              "<matplotlib.axes._subplots.AxesSubplot at 0x7f956eb2d5c0>"
            ]
          },
          "metadata": {
            "tags": []
          },
          "execution_count": 563
        },
        {
          "output_type": "display_data",
          "data": {
            "image/png": "[encoded data removed]",
            "text/plain": [
              "<Figure size 1440x720 with 1 Axes>"
            ]
          },
          "metadata": {
            "tags": [],
            "needs_background": "light"
          }
        }
      ]
    },
    {
      "cell_type": "code",
      "metadata": {
        "colab": {
          "base_uri": "https://localhost:8080/",
          "height": 593
        },
        "id": "2ki5EaElktM-",
        "outputId": "c17ef1de-51c5-4e0b-c40e-3b16c5c9cef8"
      },
      "source": [
        "df_group.groupby('cluster').var().plot.bar(figsize = (20,10))\n"
      ],
      "execution_count": 564,
      "outputs": [
        {
          "output_type": "execute_result",
          "data": {
            "text/plain": [
              "<matplotlib.axes._subplots.AxesSubplot at 0x7f956ea65f98>"
            ]
          },
          "metadata": {
            "tags": []
          },
          "execution_count": 564
        },
        {
          "output_type": "display_data",
          "data": {
            "image/png": "[encoded data removed]",
            "text/plain": [
              "<Figure size 1440x720 with 1 Axes>"
            ]
          },
          "metadata": {
            "tags": [],
            "needs_background": "light"
          }
        }
      ]
    },
    {
      "cell_type": "markdown",
      "metadata": {
        "id": "2Q5kiJZcktM-"
      },
      "source": [
        "# Respodendo as perguntas\n",
        "* 1) O quanto o tamanho da garagem de carros influencia no preço de uma casa?\n",
        "* 2) O quanto a área do porão influencia no preço da casa?\n",
        "* 3) Quais os bairros que possuem as casas mais caras?\n",
        "* 4) É possível predizer o preço das casas com base nos atributos do dataset?"
      ]
    },
    {
      "cell_type": "markdown",
      "metadata": {
        "id": "tyN2N_tZQeYL"
      },
      "source": [
        "## 1) O quanto o tamanho da garagem de carros influencia no preço de uma casa? "
      ]
    },
    {
      "cell_type": "code",
      "metadata": {
        "id": "7ebIcz6KUYOz"
      },
      "source": [
        "corr = X_train.corr()\n",
        "corrSP = corr['SalePrice'].sort_values(ascending = False)"
      ],
      "execution_count": 565,
      "outputs": []
    },
    {
      "cell_type": "code",
      "metadata": {
        "colab": {
          "base_uri": "https://localhost:8080/"
        },
        "id": "yOBCA-sFQFB7",
        "outputId": "8f6ece48-8857-465d-955d-1bb80c767cc3"
      },
      "source": [
        "print(\"Correlaçao da área da garagem com o preço da casa: \", str(corrSP['GarageArea']))"
      ],
      "execution_count": 566,
      "outputs": [
        {
          "output_type": "stream",
          "text": [
            "Correlaçao da área da garagem com o preço da casa:  0.6234314389183598\n"
          ],
          "name": "stdout"
        }
      ]
    },
    {
      "cell_type": "markdown",
      "metadata": {
        "id": "IWCyzqo1R9wz"
      },
      "source": [
        "**Resposta:** De acordo com a imagem abaixo, a variável GarageArea possui uma correlação forte com a variável SalePrice. Ou seja, a área da garagem influencia fortemente no preço da casa.\n",
        "\n",
        "* Pelo grafico de dispersão feito anteriormente (GarageArea x SalePrice), é possivel observar que existe uma tendencia de que o preço da casa com garagem grande seja mais cara do que as casas que possuem garagem menor."
      ]
    },
    {
      "cell_type": "markdown",
      "metadata": {
        "id": "6oxYG0cGR4M_"
      },
      "source": [
        "![image.png](data:image/png;base64,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)"
      ]
    },
    {
      "cell_type": "markdown",
      "metadata": {
        "id": "_mWbqFOzUKGD"
      },
      "source": [
        "## 2) O quanto a área do porão influencia no preço da casa?"
      ]
    },
    {
      "cell_type": "code",
      "metadata": {
        "colab": {
          "base_uri": "https://localhost:8080/"
        },
        "id": "XrIcBs62QQOh",
        "outputId": "a91cfd4c-1fc1-4223-d2ad-3f4cbc5ff562"
      },
      "source": [
        "print(\"Correlaçao da área do porão com o preço da casa: \", str(corrSP['TotalBsmtSF']))"
      ],
      "execution_count": 567,
      "outputs": [
        {
          "output_type": "stream",
          "text": [
            "Correlaçao da área do porão com o preço da casa:  0.6135805515591944\n"
          ],
          "name": "stdout"
        }
      ]
    },
    {
      "cell_type": "markdown",
      "metadata": {
        "id": "rn22S3V9Vlqf"
      },
      "source": [
        "**Resposta**: De acordo com a imagem abaixo, a variável TotalBsmtSF possui uma correlação forte com a variável SalePrice. Ou seja, a a área do porão influencia fortemente no preço da casa.\n",
        "* Pelo grafico de dispersão feito anteriormente (TotalBsmtSF x SalePrice), é possivel observar que existe uma forte tendência do preço da casa ser maior quando esta possui um porão maior."
      ]
    },
    {
      "cell_type": "markdown",
      "metadata": {
        "id": "Uyel1535WYZw"
      },
      "source": [
        "## 3) Quais os bairros que possuem as casas mais caras?"
      ]
    },
    {
      "cell_type": "code",
      "metadata": {
        "colab": {
          "base_uri": "https://localhost:8080/"
        },
        "id": "K7JIhTKxUdh1",
        "outputId": "3f11b23d-507a-46a4-810f-95f8daea380c"
      },
      "source": [
        "group = df_train.groupby('Neighborhood').mean().sort_values('SalePrice', ascending = False).head()\n",
        "print(\"Bairros,    preços\\n\")\n",
        "group['SalePrice']"
      ],
      "execution_count": 568,
      "outputs": [
        {
          "output_type": "stream",
          "text": [
            "Bairros,    preços\n",
            "\n"
          ],
          "name": "stdout"
        },
        {
          "output_type": "execute_result",
          "data": {
            "text/plain": [
              "Neighborhood\n",
              "NoRidge    335295.317073\n",
              "NridgHt    316270.623377\n",
              "StoneBr    310499.000000\n",
              "Timber     242247.447368\n",
              "Veenker    238772.727273\n",
              "Name: SalePrice, dtype: float64"
            ]
          },
          "metadata": {
            "tags": []
          },
          "execution_count": 568
        }
      ]
    },
    {
      "cell_type": "markdown",
      "metadata": {
        "id": "-frFjROZWrJZ"
      },
      "source": [
        "## 4) É possível predizer o preço das casas com base nos atributos do dataset?\n",
        "* **obs:** Como não há o atributo salePrice no X_test, será utilizado apenas o X_Train como treino e teste"
      ]
    },
    {
      "cell_type": "code",
      "metadata": {
        "id": "xyT2CUY8b7m5"
      },
      "source": [
        "from sklearn.preprocessing import MinMaxScaler\n",
        "\n",
        "scaler = MinMaxScaler()\n",
        "\n",
        "y = scaler.fit_transform(X_train['SalePrice'].values.reshape(-1, 1))\n",
        "X = scaler.fit_transform(X_train)"
      ],
      "execution_count": 571,
      "outputs": []
    },
    {
      "cell_type": "code",
      "metadata": {
        "id": "10o3RVRQY489"
      },
      "source": [
        "X_train, X_test, y_train, y_test = train_test_split(X, y, test_size=0.15, random_state=42)"
      ],
      "execution_count": 572,
      "outputs": []
    },
    {
      "cell_type": "markdown",
      "metadata": {
        "id": "oF1AoksLWutq"
      },
      "source": [
        "### 4.1) Tentando com Regressão linear"
      ]
    },
    {
      "cell_type": "code",
      "metadata": {
        "id": "IOl10eefUeIE"
      },
      "source": [
        "reg = LinearRegression().fit(X_train, y_train)"
      ],
      "execution_count": 573,
      "outputs": []
    },
    {
      "cell_type": "code",
      "metadata": {
        "colab": {
          "base_uri": "https://localhost:8080/"
        },
        "id": "4kfuogVAZ3U-",
        "outputId": "089f298c-2f0a-467b-c170-fb086c2b4224"
      },
      "source": [
        "y_pred = reg.predict(X_test)\n",
        "print(\"Erro médio absoluto: \", str(mean_absolute_error(y_test, y_pred)))\n",
        "print(\"Erro médio quadrático: \", str(mean_squared_error(y_test, y_pred)))"
      ],
      "execution_count": 574,
      "outputs": [
        {
          "output_type": "stream",
          "text": [
            "Erro médio absoluto:  2.8423424351100577e-16\n",
            "Erro médio quadrático:  1.4417327319167375e-31\n"
          ],
          "name": "stdout"
        }
      ]
    },
    {
      "cell_type": "code",
      "metadata": {
        "id": "eFk5UUleaHvf"
      },
      "source": [
        ""
      ],
      "execution_count": 574,
      "outputs": []
    },
    {
      "cell_type": "markdown",
      "metadata": {
        "id": "YMLhNr6faoDM"
      },
      "source": [
        "### 4.2) Tentando com RandomForestRegressor"
      ]
    },
    {
      "cell_type": "code",
      "metadata": {
        "id": "uDj8WJlxatSO"
      },
      "source": [
        "regr = RandomForestRegressor(max_depth=10, random_state= 42)"
      ],
      "execution_count": 575,
      "outputs": []
    },
    {
      "cell_type": "code",
      "metadata": {
        "colab": {
          "base_uri": "https://localhost:8080/"
        },
        "id": "hqwQWARWaw63",
        "outputId": "2e512fc3-7259-4064-d19a-13fae37f68b5"
      },
      "source": [
        "regr.fit(X_train, y_train)"
      ],
      "execution_count": 576,
      "outputs": [
        {
          "output_type": "stream",
          "text": [
            "/usr/local/lib/python3.6/dist-packages/ipykernel_launcher.py:1: DataConversionWarning: A column-vector y was passed when a 1d array was expected. Please change the shape of y to (n_samples,), for example using ravel().\n",
            "  \"\"\"Entry point for launching an IPython kernel.\n"
          ],
          "name": "stderr"
        },
        {
          "output_type": "execute_result",
          "data": {
            "text/plain": [
              "RandomForestRegressor(bootstrap=True, ccp_alpha=0.0, criterion='mse',\n",
              "                      max_depth=10, max_features='auto', max_leaf_nodes=None,\n",
              "                      max_samples=None, min_impurity_decrease=0.0,\n",
              "                      min_impurity_split=None, min_samples_leaf=1,\n",
              "                      min_samples_split=2, min_weight_fraction_leaf=0.0,\n",
              "                      n_estimators=100, n_jobs=None, oob_score=False,\n",
              "                      random_state=42, verbose=0, warm_start=False)"
            ]
          },
          "metadata": {
            "tags": []
          },
          "execution_count": 576
        }
      ]
    },
    {
      "cell_type": "code",
      "metadata": {
        "colab": {
          "base_uri": "https://localhost:8080/"
        },
        "id": "QW4uV_Hfa5PZ",
        "outputId": "aeca90b3-868f-44d3-eff8-8692de36e94d"
      },
      "source": [
        "y_pred = regr.predict(X_test)\n",
        "print(\"Erro médio absoluto: \", str(mean_absolute_error(y_test, y_pred)))\n",
        "print(\"Erro médio quadrático: \", str(mean_squared_error(y_test, y_pred)))"
      ],
      "execution_count": 577,
      "outputs": [
        {
          "output_type": "stream",
          "text": [
            "Erro médio absoluto:  0.001149728234775672\n",
            "Erro médio quadrático:  5.1553394325954626e-05\n"
          ],
          "name": "stdout"
        }
      ]
    },
    {
      "cell_type": "code",
      "metadata": {
        "id": "-J6XPMIibDWs"
      },
      "source": [
        ""
      ],
      "execution_count": 578,
      "outputs": []
    },
    {
      "cell_type": "code",
      "metadata": {
        "id": "DhyzB3gBbm6n"
      },
      "source": [
        ""
      ],
      "execution_count": null,
      "outputs": []
    }
  ]
}